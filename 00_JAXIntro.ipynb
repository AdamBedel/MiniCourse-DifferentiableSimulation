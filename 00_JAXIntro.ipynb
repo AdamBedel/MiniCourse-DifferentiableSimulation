{
  "nbformat": 4,
  "nbformat_minor": 0,
  "metadata": {
    "colab": {
      "provenance": [],
      "authorship_tag": "ABX9TyOsp+ah5GQW+ZaHokJ77rZg",
      "include_colab_link": true
    },
    "kernelspec": {
      "name": "python3",
      "display_name": "Python 3"
    },
    "language_info": {
      "name": "python"
    }
  },
  "cells": [
    {
      "cell_type": "markdown",
      "metadata": {
        "id": "view-in-github",
        "colab_type": "text"
      },
      "source": [
        "<a href=\"https://colab.research.google.com/github/aidancrilly/MiniCourse-DifferentiableSimulation/blob/main/00_JAXIntro.ipynb\" target=\"_parent\"><img src=\"https://colab.research.google.com/assets/colab-badge.svg\" alt=\"Open In Colab\"/></a>"
      ]
    },
    {
      "cell_type": "markdown",
      "source": [
        "# An introduction to JAX:\n",
        "\n",
        "Resources:\n",
        "\n",
        "- JAX documentation: https://docs.jax.dev/en/latest/quickstart.html\n",
        "\n",
        "Below are the key libraries to import to use JAX, if you are familiar with regular numpy then jax.numpy will be easy to pick"
      ],
      "metadata": {
        "id": "qnRudVHjm429"
      }
    },
    {
      "cell_type": "code",
      "source": [
        "import jax\n",
        "import jax.numpy as jnp"
      ],
      "metadata": {
        "id": "GTofu7NXm4J9"
      },
      "execution_count": null,
      "outputs": []
    },
    {
      "cell_type": "markdown",
      "source": [
        "In this introduction, we will go through the key capabilities of JAX, namely:\n",
        "\n",
        "- Just-in-time (JIT) compilation\n",
        "- Vectorising maps\n",
        "- Automatic differeniation\n",
        "\n",
        "These are implemented as JAX's key 'transformations':\n",
        "\n",
        "- jax.jit\n",
        "- jax.vmap\n",
        "- jax.grad\n",
        "\n",
        "These transformations take a function as an argument and return a transformed version of the function.\n",
        "\n",
        "The magic behind transformations is the notion of a JAX Tracer. Tracers are abstract stand-ins for array objects, and are passed to JAX functions in order to extract the sequence of operations that the function encodes. The need for these tracers to be abstract also restricts the kind of functions we can write as we shall see in the following.\n",
        "\n",
        "We won't aim to understand what exactly is happening at the low level but more review the functionality and how to use it for our use case."
      ],
      "metadata": {
        "id": "BnHe0XuKcfGb"
      }
    },
    {
      "cell_type": "markdown",
      "source": [
        "# Just-in-time (JIT) compilation\n",
        "\n",
        "As the name suggests, JIT compiles a function at run time, just in time for its execution. JAX uses the Open XLA compiler ecosystem which natively supports accelerators.\n",
        "\n",
        "Lets try out jax.jit in a simple example."
      ],
      "metadata": {
        "id": "n_DEt7vdbpir"
      }
    },
    {
      "cell_type": "code",
      "source": [
        "def cosine_similatiries(x, y):\n",
        "  \"\"\"\n",
        "  Computes the cosine similarity between two vectors.\n",
        "\n",
        "  We will use very large input vectors for x and y\n",
        "  \"\"\"\n",
        "  x_norm = jnp.sum(x ** 2) ** 0.5\n",
        "  y_norm = jnp.sum(y ** 2) ** 0.5\n",
        "  return jnp.sum(x * y) / (x_norm * y_norm)\n",
        "\n",
        "def pythonic_cosine_similatiries(x, y):\n",
        "  \"\"\"\n",
        "  For comparison\n",
        "  \"\"\"\n",
        "  x = list(x)\n",
        "  y = list(y)\n",
        "  x_norm = 0.0\n",
        "  y_norm = 0.0\n",
        "  for i in range(len(x)):\n",
        "    x_norm += x[i] ** 2\n",
        "    y_norm += y[i] ** 2\n",
        "  x_norm = x_norm ** 0.5\n",
        "  y_norm = y_norm ** 0.5\n",
        "  return sum(x[i] * y[i] for i in range(len(x))) / (x_norm * y_norm)\n",
        "\n"
      ],
      "metadata": {
        "id": "c5PzxHRRbmAc"
      },
      "execution_count": 19,
      "outputs": []
    },
    {
      "cell_type": "markdown",
      "source": [
        "To JIT compile code we simple call jax.jit on the function which returns the jitted function.\n",
        "\n",
        "**Note**: compiliation occurs whenever the shape of the inputs change or whenever a variable specified as static is changed in value."
      ],
      "metadata": {
        "id": "GFoLhdtHqeHo"
      }
    },
    {
      "cell_type": "code",
      "source": [
        "jitted_cosine_similatiries = jax.jit(cosine_similatiries)"
      ],
      "metadata": {
        "id": "eVovByxvqdk3"
      },
      "execution_count": null,
      "outputs": []
    },
    {
      "cell_type": "markdown",
      "source": [
        "To test our functions, lets make some random numbers, we explicitly deal with the random number generator keys - a JAX quirk that you quickly get used to."
      ],
      "metadata": {
        "id": "RcIqEKtzd2Mr"
      }
    },
    {
      "cell_type": "code",
      "source": [
        "N = 10000\n",
        "\n",
        "seed = 1337\n",
        "key = jax.random.key(seed)\n",
        "\n",
        "key, subkey = jax.random.split(key)\n",
        "x = jax.random.normal(subkey, (N,))\n",
        "key, subkey = jax.random.split(key)\n",
        "y = jax.random.normal(subkey, (N,))"
      ],
      "metadata": {
        "id": "1WqnmvmidA98"
      },
      "execution_count": 20,
      "outputs": []
    },
    {
      "cell_type": "markdown",
      "source": [
        "We can compare the run times of our various implementations, python, JAX with and without JIT (as well as see how long the code takes to compile)."
      ],
      "metadata": {
        "id": "_KGa2KJmd2lL"
      }
    },
    {
      "cell_type": "code",
      "source": [
        "import timeit\n",
        "\n",
        "python_time = timeit.timeit(lambda: pythonic_cosine_similatiries(x, y), number=1)\n",
        "jax_time = timeit.timeit(lambda: cosine_similatiries(x, y), number=100)/100\n",
        "compile_time = timeit.timeit(lambda: jitted_cosine_similatiries(x, y), number=1)\n",
        "jit_time = timeit.timeit(lambda: jitted_cosine_similatiries(x, y), number=100)/100\n",
        "\n",
        "print(f'Python time: {1e3*python_time:.4f} ms')\n",
        "print(f'JAXPython time: {1e3*jax_time:.4f} ms')\n",
        "print(f'Compile time: {1e3*compile_time:.4f} ms')\n",
        "print(f'JIT time: {1e3*jit_time:.4f} ms')"
      ],
      "metadata": {
        "colab": {
          "base_uri": "https://localhost:8080/"
        },
        "id": "YeKKwn3fdBzT",
        "outputId": "55149b10-bf3d-4572-a8cc-72e276affefd"
      },
      "execution_count": 23,
      "outputs": [
        {
          "output_type": "stream",
          "name": "stdout",
          "text": [
            "Python time: 2228.1637 ms\n",
            "JAXPython time: 0.5688 ms\n",
            "Compile time: 0.0962 ms\n",
            "JIT time: 0.0537 ms\n"
          ]
        }
      ]
    },
    {
      "cell_type": "markdown",
      "source": [
        "JIT seems pretty amazing - it also can compile code for accelerators like GPU and CPU\n",
        "\n",
        "**However**, there are things you can't jit, including:\n",
        "\n",
        "-\n"
      ],
      "metadata": {
        "id": "ENkJUqjTd3ms"
      }
    },
    {
      "cell_type": "code",
      "source": [
        "def variable_length_result(x,n):\n",
        "  res = jnp.linspace(0.0,x,n)\n",
        "  return res\n",
        "\n",
        "x = 0.25\n",
        "n = 5\n",
        "\n",
        "nojit_res = variable_length_result(x,n)\n",
        "print(nojit_res)"
      ],
      "metadata": {
        "colab": {
          "base_uri": "https://localhost:8080/"
        },
        "id": "GxEq9AhKd6FU",
        "outputId": "decc01ff-7af6-493f-b206-7062eea58f06"
      },
      "execution_count": 31,
      "outputs": [
        {
          "output_type": "stream",
          "name": "stdout",
          "text": [
            "[0.     0.0625 0.125  0.1875 0.25  ]\n"
          ]
        }
      ]
    },
    {
      "cell_type": "code",
      "source": [
        "jitted_res = jax.jit(variable_length_result)(x,n)"
      ],
      "metadata": {
        "colab": {
          "base_uri": "https://localhost:8080/",
          "height": 463
        },
        "id": "U1PkGM_YkiGm",
        "outputId": "b2a19bbd-f9fd-4106-b58a-d2beff8edc98"
      },
      "execution_count": 32,
      "outputs": [
        {
          "output_type": "error",
          "ename": "ConcretizationTypeError",
          "evalue": "Abstract tracer value encountered where concrete value is expected: traced array with shape int32[]\n'num' argument of jnp.linspace\nThe error occurred while tracing the function variable_length_result at <ipython-input-31-2770435341>:1 for jit. This concrete value was not available in Python because it depends on the value of the argument n.\n\nSee https://jax.readthedocs.io/en/latest/errors.html#jax.errors.ConcretizationTypeError",
          "traceback": [
            "\u001b[0;31m---------------------------------------------------------------------------\u001b[0m",
            "\u001b[0;31mConcretizationTypeError\u001b[0m                   Traceback (most recent call last)",
            "\u001b[0;32m<ipython-input-32-1600139560>\u001b[0m in \u001b[0;36m<cell line: 0>\u001b[0;34m()\u001b[0m\n\u001b[0;32m----> 1\u001b[0;31m \u001b[0mjitted_res\u001b[0m \u001b[0;34m=\u001b[0m \u001b[0mjax\u001b[0m\u001b[0;34m.\u001b[0m\u001b[0mjit\u001b[0m\u001b[0;34m(\u001b[0m\u001b[0mvariable_length_result\u001b[0m\u001b[0;34m)\u001b[0m\u001b[0;34m(\u001b[0m\u001b[0mx\u001b[0m\u001b[0;34m,\u001b[0m\u001b[0mn\u001b[0m\u001b[0;34m)\u001b[0m\u001b[0;34m\u001b[0m\u001b[0;34m\u001b[0m\u001b[0m\n\u001b[0m",
            "    \u001b[0;31m[... skipping hidden 13 frame]\u001b[0m\n",
            "\u001b[0;32m<ipython-input-31-2770435341>\u001b[0m in \u001b[0;36mvariable_length_result\u001b[0;34m(x, n)\u001b[0m\n\u001b[1;32m      1\u001b[0m \u001b[0;32mdef\u001b[0m \u001b[0mvariable_length_result\u001b[0m\u001b[0;34m(\u001b[0m\u001b[0mx\u001b[0m\u001b[0;34m,\u001b[0m\u001b[0mn\u001b[0m\u001b[0;34m)\u001b[0m\u001b[0;34m:\u001b[0m\u001b[0;34m\u001b[0m\u001b[0;34m\u001b[0m\u001b[0m\n\u001b[0;32m----> 2\u001b[0;31m   \u001b[0mres\u001b[0m \u001b[0;34m=\u001b[0m \u001b[0mjnp\u001b[0m\u001b[0;34m.\u001b[0m\u001b[0mlinspace\u001b[0m\u001b[0;34m(\u001b[0m\u001b[0;36m0.0\u001b[0m\u001b[0;34m,\u001b[0m\u001b[0mx\u001b[0m\u001b[0;34m,\u001b[0m\u001b[0mn\u001b[0m\u001b[0;34m)\u001b[0m\u001b[0;34m\u001b[0m\u001b[0;34m\u001b[0m\u001b[0m\n\u001b[0m\u001b[1;32m      3\u001b[0m   \u001b[0;32mreturn\u001b[0m \u001b[0mres\u001b[0m\u001b[0;34m\u001b[0m\u001b[0;34m\u001b[0m\u001b[0m\n\u001b[1;32m      4\u001b[0m \u001b[0;34m\u001b[0m\u001b[0m\n\u001b[1;32m      5\u001b[0m \u001b[0mx\u001b[0m \u001b[0;34m=\u001b[0m \u001b[0;36m0.25\u001b[0m\u001b[0;34m\u001b[0m\u001b[0;34m\u001b[0m\u001b[0m\n",
            "\u001b[0;32m/usr/local/lib/python3.11/dist-packages/jax/_src/numpy/lax_numpy.py\u001b[0m in \u001b[0;36mlinspace\u001b[0;34m(start, stop, num, endpoint, retstep, dtype, axis, device)\u001b[0m\n\u001b[1;32m   6473\u001b[0m            [ 5.  , 10.  ]], dtype=float32)\n\u001b[1;32m   6474\u001b[0m   \"\"\"\n\u001b[0;32m-> 6475\u001b[0;31m   \u001b[0mnum\u001b[0m \u001b[0;34m=\u001b[0m \u001b[0mcore\u001b[0m\u001b[0;34m.\u001b[0m\u001b[0mconcrete_dim_or_error\u001b[0m\u001b[0;34m(\u001b[0m\u001b[0mnum\u001b[0m\u001b[0;34m,\u001b[0m \u001b[0;34m\"'num' argument of jnp.linspace\"\u001b[0m\u001b[0;34m)\u001b[0m\u001b[0;34m\u001b[0m\u001b[0;34m\u001b[0m\u001b[0m\n\u001b[0m\u001b[1;32m   6476\u001b[0m   \u001b[0maxis\u001b[0m \u001b[0;34m=\u001b[0m \u001b[0mcore\u001b[0m\u001b[0;34m.\u001b[0m\u001b[0mconcrete_or_error\u001b[0m\u001b[0;34m(\u001b[0m\u001b[0moperator\u001b[0m\u001b[0;34m.\u001b[0m\u001b[0mindex\u001b[0m\u001b[0;34m,\u001b[0m \u001b[0maxis\u001b[0m\u001b[0;34m,\u001b[0m \u001b[0;34m\"'axis' argument of jnp.linspace\"\u001b[0m\u001b[0;34m)\u001b[0m\u001b[0;34m\u001b[0m\u001b[0;34m\u001b[0m\u001b[0m\n\u001b[1;32m   6477\u001b[0m   \u001b[0;32mreturn\u001b[0m \u001b[0m_linspace\u001b[0m\u001b[0;34m(\u001b[0m\u001b[0mstart\u001b[0m\u001b[0;34m,\u001b[0m \u001b[0mstop\u001b[0m\u001b[0;34m,\u001b[0m \u001b[0mnum\u001b[0m\u001b[0;34m,\u001b[0m \u001b[0mendpoint\u001b[0m\u001b[0;34m,\u001b[0m \u001b[0mretstep\u001b[0m\u001b[0;34m,\u001b[0m \u001b[0mdtype\u001b[0m\u001b[0;34m,\u001b[0m \u001b[0maxis\u001b[0m\u001b[0;34m,\u001b[0m \u001b[0mdevice\u001b[0m\u001b[0;34m=\u001b[0m\u001b[0mdevice\u001b[0m\u001b[0;34m)\u001b[0m\u001b[0;34m\u001b[0m\u001b[0;34m\u001b[0m\u001b[0m\n",
            "    \u001b[0;31m[... skipping hidden 1 frame]\u001b[0m\n",
            "\u001b[0;32m/usr/local/lib/python3.11/dist-packages/jax/_src/core.py\u001b[0m in \u001b[0;36mconcrete_or_error\u001b[0;34m(force, val, context)\u001b[0m\n\u001b[1;32m   1586\u001b[0m     \u001b[0mmaybe_concrete\u001b[0m \u001b[0;34m=\u001b[0m \u001b[0mval\u001b[0m\u001b[0;34m.\u001b[0m\u001b[0mto_concrete_value\u001b[0m\u001b[0;34m(\u001b[0m\u001b[0;34m)\u001b[0m\u001b[0;34m\u001b[0m\u001b[0;34m\u001b[0m\u001b[0m\n\u001b[1;32m   1587\u001b[0m     \u001b[0;32mif\u001b[0m \u001b[0mmaybe_concrete\u001b[0m \u001b[0;32mis\u001b[0m \u001b[0;32mNone\u001b[0m\u001b[0;34m:\u001b[0m\u001b[0;34m\u001b[0m\u001b[0;34m\u001b[0m\u001b[0m\n\u001b[0;32m-> 1588\u001b[0;31m       \u001b[0;32mraise\u001b[0m \u001b[0mConcretizationTypeError\u001b[0m\u001b[0;34m(\u001b[0m\u001b[0mval\u001b[0m\u001b[0;34m,\u001b[0m \u001b[0mcontext\u001b[0m\u001b[0;34m)\u001b[0m\u001b[0;34m\u001b[0m\u001b[0;34m\u001b[0m\u001b[0m\n\u001b[0m\u001b[1;32m   1589\u001b[0m     \u001b[0;32melse\u001b[0m\u001b[0;34m:\u001b[0m\u001b[0;34m\u001b[0m\u001b[0;34m\u001b[0m\u001b[0m\n\u001b[1;32m   1590\u001b[0m       \u001b[0;32mreturn\u001b[0m \u001b[0mforce\u001b[0m\u001b[0;34m(\u001b[0m\u001b[0mmaybe_concrete\u001b[0m\u001b[0;34m)\u001b[0m\u001b[0;34m\u001b[0m\u001b[0;34m\u001b[0m\u001b[0m\n",
            "\u001b[0;31mConcretizationTypeError\u001b[0m: Abstract tracer value encountered where concrete value is expected: traced array with shape int32[]\n'num' argument of jnp.linspace\nThe error occurred while tracing the function variable_length_result at <ipython-input-31-2770435341>:1 for jit. This concrete value was not available in Python because it depends on the value of the argument n.\n\nSee https://jax.readthedocs.io/en/latest/errors.html#jax.errors.ConcretizationTypeError"
          ]
        }
      ]
    },
    {
      "cell_type": "code",
      "source": [
        "# static_argnames tells JAX to recompile on changes at these argument positions:\n",
        "jitted_res = jax.jit(variable_length_result, static_argnames=['n'])(x,n)\n",
        "print(jitted_res)"
      ],
      "metadata": {
        "colab": {
          "base_uri": "https://localhost:8080/"
        },
        "id": "n-JzOJz3mNV9",
        "outputId": "841874ba-8a11-4ab6-e083-11d1f7eec839"
      },
      "execution_count": 33,
      "outputs": [
        {
          "output_type": "stream",
          "name": "stdout",
          "text": [
            "[0.     0.0625 0.125  0.1875 0.25  ]\n"
          ]
        }
      ]
    },
    {
      "cell_type": "markdown",
      "source": [
        "The above also applies for python-like if statements, in general these should be avoid and conditionals should be done with in-built JAX conditionals such as jnp.where"
      ],
      "metadata": {
        "id": "4M3ewfjmmeJ9"
      }
    },
    {
      "cell_type": "code",
      "source": [
        "x = jnp.linspace(0.0,1.0,100)\n",
        "y = jnp.where(x > 0.5, x, 0)\n",
        "print(y)"
      ],
      "metadata": {
        "colab": {
          "base_uri": "https://localhost:8080/"
        },
        "id": "u2Pde2ramrSm",
        "outputId": "f16ea4f8-6fbd-4852-d12a-920fb2b0b1fd"
      },
      "execution_count": 34,
      "outputs": [
        {
          "output_type": "stream",
          "name": "stdout",
          "text": [
            "[0.         0.         0.         0.         0.         0.\n",
            " 0.         0.         0.         0.         0.         0.\n",
            " 0.         0.         0.         0.         0.         0.\n",
            " 0.         0.         0.         0.         0.         0.\n",
            " 0.         0.         0.         0.         0.         0.\n",
            " 0.         0.         0.         0.         0.         0.\n",
            " 0.         0.         0.         0.         0.         0.\n",
            " 0.         0.         0.         0.         0.         0.\n",
            " 0.         0.         0.5050505  0.5151515  0.5252525  0.53535354\n",
            " 0.54545456 0.5555556  0.56565654 0.57575756 0.5858586  0.5959596\n",
            " 0.6060606  0.61616164 0.6262626  0.6363636  0.64646465 0.65656567\n",
            " 0.6666667  0.67676765 0.68686867 0.6969697  0.7070707  0.7171717\n",
            " 0.72727275 0.7373737  0.74747473 0.75757575 0.7676768  0.7777778\n",
            " 0.7878788  0.7979798  0.8080808  0.8181818  0.82828283 0.83838385\n",
            " 0.8484849  0.85858583 0.86868685 0.8787879  0.8888889  0.8989899\n",
            " 0.90909094 0.9191919  0.9292929  0.93939394 0.94949496 0.959596\n",
            " 0.969697   0.97979796 0.989899   1.        ]\n"
          ]
        }
      ]
    },
    {
      "cell_type": "markdown",
      "source": [
        "# Vectorising map (jax.vmap)\n",
        "\n",
        "Another key JAX functionality is the *vmap*, which allows you vectorise a function over (all or a subset) of its inputs. Basically, if you are performing the same operation along an axis of an array, vmap is made to handle this.\n",
        "\n",
        "Let us compute the mean and variance over the first axis of a 2D data array *x*, including a weighting term *w* which is the same for all rows of *x*."
      ],
      "metadata": {
        "id": "l3OHHRdgt-Fn"
      }
    },
    {
      "cell_type": "code",
      "source": [
        "def compute_cumulants(x,w):\n",
        "  mu = jnp.sum(w*x)/jnp.sum(w)\n",
        "  var = jnp.sum(w*(x-mu)**2)/jnp.sum(w)\n",
        "  return mu, var\n",
        "\n",
        "# in_axes specifies over which axis the vectorising map should occur\n",
        "# None here says no vectorisation should be used, i.e. use the same w for all x\n",
        "vmapped_compute_cumulants = jax.vmap(compute_cumulants,in_axes=(1,None))\n",
        "\n",
        "Nx1 = 100\n",
        "Nx2 = 20\n",
        "\n",
        "key, subkey = jax.random.split(key)\n",
        "x = jax.random.normal(subkey, (Nx1,Nx2))\n",
        "key, subkey = jax.random.split(key)\n",
        "w = jax.random.normal(subkey, (Nx1))**2\n",
        "\n",
        "mu, var = vmapped_compute_cumulants(x,w)\n",
        "print(mu.shape)\n",
        "print(var.shape)"
      ],
      "metadata": {
        "colab": {
          "base_uri": "https://localhost:8080/"
        },
        "id": "zSu4esJ9uj9X",
        "outputId": "b3bbdf50-b719-4e99-d7ad-77c224dabf4e"
      },
      "execution_count": 54,
      "outputs": [
        {
          "output_type": "stream",
          "name": "stdout",
          "text": [
            "(20,)\n",
            "(20,)\n"
          ]
        }
      ]
    },
    {
      "cell_type": "markdown",
      "source": [
        "# JAX quirks\n",
        "\n",
        "JAX's capabilities make for a few quirks when compared to native python/numpy code.\n",
        "\n",
        "## Random numbers\n",
        "\n",
        "We have already seen this in the random number generation at the top of this exercise!\n",
        "\n",
        "## In-place updates\n",
        "\n",
        "We must interact with JAX arrays in a different way than in python"
      ],
      "metadata": {
        "id": "63OXKkK_laZU"
      }
    },
    {
      "cell_type": "code",
      "source": [
        "x = jnp.array([1.0,2.0,3.0,4.0])\n",
        "\n",
        "# This is not allowed\n",
        "try:\n",
        "  x[1] = -2.0\n",
        "except TypeError as e:\n",
        "  print('Numpy-like array updates not allowed:')\n",
        "  print(e)\n",
        "\n",
        "# You have to use the following syntax to perform in-place update\n",
        "x = x.at[1].set(-2.0)\n",
        "print('\\nUsing in-place updates:')\n",
        "print(x)"
      ],
      "metadata": {
        "colab": {
          "base_uri": "https://localhost:8080/"
        },
        "id": "Zco1UOKYm1QG",
        "outputId": "52159ebc-ade0-45c4-ebf9-c66894751139"
      },
      "execution_count": 40,
      "outputs": [
        {
          "output_type": "stream",
          "name": "stdout",
          "text": [
            "Numpy-like array updates not allowed:\n",
            "JAX arrays are immutable and do not support in-place item assignment. Instead of x[idx] = y, use x = x.at[idx].set(y) or another .at[] method: https://jax.readthedocs.io/en/latest/_autosummary/jax.numpy.ndarray.at.html\n",
            "\n",
            "Using in-place updates:\n",
            "[ 1. -2.  3.  4.]\n"
          ]
        }
      ]
    },
    {
      "cell_type": "markdown",
      "source": [
        "# Automatic Differentiation\n",
        "\n",
        "## jax.grad\n",
        "\n",
        "jax.grad is the simpliest interface with JAX's automatic differentation (AD) capability. It works exclusively on scalar output functions (input can be multi-dimensional) - and it implements *reverse-mode* AD as this is most efficient for many-to-one functions."
      ],
      "metadata": {
        "id": "Z-obmONUbqCi"
      }
    },
    {
      "cell_type": "code",
      "source": [
        "import matplotlib.pyplot as plt\n",
        "\n",
        "def sin_func(x):\n",
        "  return jnp.sin(x)\n",
        "\n",
        "x = jnp.linspace(-5,5,100)\n",
        "\n",
        "# Note we need to vmap our gradded function as jax.grad operates on scalar output functions only\n",
        "grad_sin_func = jax.vmap(jax.grad(sin_func))\n",
        "y = grad_sin_func(x)\n",
        "\n",
        "plt.title(r'No surprises here, $\\frac{d}{dx} \\sin (x) = \\cos (x)$')\n",
        "plt.plot(x,y,'r',lw=2)\n",
        "plt.plot(x,jnp.cos(x),'k--')\n",
        "plt.show()"
      ],
      "metadata": {
        "colab": {
          "base_uri": "https://localhost:8080/",
          "height": 459
        },
        "id": "fsIY-RNzboxC",
        "outputId": "82329905-02b8-4e03-86c9-9e633e781f76"
      },
      "execution_count": 58,
      "outputs": [
        {
          "output_type": "display_data",
          "data": {
            "text/plain": [
              "<Figure size 640x480 with 1 Axes>"
            ],
            "image/png": "[encoded data removed]"
          },
          "metadata": {}
        }
      ]
    },
    {
      "cell_type": "markdown",
      "source": [
        "## jax.jac_fwd and jax.jac_rev\n",
        "\n",
        "We can also compute the gradients of"
      ],
      "metadata": {
        "id": "fMb6m-zSb1Zq"
      }
    },
    {
      "cell_type": "code",
      "source": [],
      "metadata": {
        "id": "aHGUEU4Jb4ZD"
      },
      "execution_count": 5,
      "outputs": []
    },
    {
      "cell_type": "markdown",
      "source": [
        "### **Advanced**: Jacobian-vector products (JVPs) and vector-Jacobian products (VJPs)\n",
        "\n",
        "To really understand what is happening under the hood, we need to introduce JVPs and VJPs, which are related to forward- and reverse-mode AD respectively.\n",
        "\n",
        "Let’s say you have a function that takes several inputs and returns several outputs. Think of this like a physical system where you tweak some parameters (the inputs) and observe some measurements (the outputs). The Jacobian of this function is like a giant matrix of sensitivities—how each output changes with each input.\n",
        "\n",
        "But in practice, we don’t usually need the whole matrix when applying the chain rule.\n",
        "\n",
        "Instead, we want to know what happens in a particular direction. That’s where Jacobian-vector products (JVPs) and vector-Jacobian products (VJPs) come in.\n",
        "\n",
        "**Jacobian-Vector Product (JVP)**\n",
        "\n",
        "This is used in forward-mode AD. It answers the question:\n",
        "\n",
        "“If I nudge my inputs a little bit in some direction, how do the outputs change?”\n",
        "\n",
        "Imagine you’re computing a function\n",
        "𝑓\n",
        "(\n",
        "𝑥\n",
        ")\n",
        "f(x), and you have some small perturbation\n",
        "𝛿\n",
        "𝑥\n",
        "δx. The JVP tells you how that perturbation propagates through the function:\n",
        "\n",
        "JVP\n",
        "=\n",
        "𝐽\n",
        "𝑓\n",
        "(\n",
        "𝑥\n",
        ")\n",
        "⋅\n",
        "𝛿\n",
        "𝑥\n",
        "JVP=J\n",
        "f\n",
        "​\n",
        " (x)⋅δx\n",
        "You can think of this like sending a small ripple through your system from the input side and seeing how it affects the output.\n",
        "\n"
      ],
      "metadata": {
        "id": "tmLUSusRb_kr"
      }
    },
    {
      "cell_type": "code",
      "source": [],
      "metadata": {
        "id": "wkKPE28D4Y6r"
      },
      "execution_count": null,
      "outputs": []
    },
    {
      "cell_type": "markdown",
      "source": [
        "**Vector-Jacobian Product (VJP)**\n",
        "\n",
        "This is used in reverse-mode AD. It answers the question:\n",
        "\n",
        "“How does a particular change in the outputs trace back to affect the inputs?”\n",
        "\n",
        "Instead of nudging the input, you ask: if I want to know how much each input contributed to a change in the output, in a particular direction, what do I get?\n",
        "\n",
        "VJP\n",
        "=\n",
        "𝛿\n",
        "𝑦\n",
        "⊤\n",
        "⋅\n",
        "𝐽\n",
        "𝑓\n",
        "(\n",
        "𝑥\n",
        ")\n",
        "VJP=δy\n",
        "⊤\n",
        " ⋅J\n",
        "f\n",
        "​\n",
        " (x)\n",
        "This is like backpropagating a signal from the output side—asking how a change in a measurement pushes back through the system to influence the inputs. This is the basis for how gradients are computed efficiently when you have lots of inputs but only one output."
      ],
      "metadata": {
        "id": "8ooz0HBb4ZEC"
      }
    },
    {
      "cell_type": "code",
      "source": [],
      "metadata": {
        "id": "xG8MKWx6zF2A"
      },
      "execution_count": null,
      "outputs": []
    }
  ]
}